{
 "cells": [
  {
   "cell_type": "code",
   "execution_count": null,
   "id": "2f6dd8b4",
   "metadata": {},
   "outputs": [],
   "source": [
    "import warnings\n",
    "warnings.filterwarnings(\"ignore\")\n",
    "warnings.simplefilter(action='ignore', category=FutureWarning)\n",
    "warnings.simplefilter(action='ignore', category=UserWarning)\n",
    "\n",
    "import itertools\n",
    "from datetime import datetime\n",
    "import numpy as np\n",
    "import pandas as pd\n",
    "import matplotlib.pyplot as plt\n",
    "plt.rcParams[\"font.family\"] = 'DejaVu Sans'\n",
    "import seaborn as sns\n",
    "\n",
    "# To be able to save images on server\n",
    "import matplotlib\n",
    "%matplotlib inline\n",
    "from matplotlib import pyplot\n",
    "from sklearn.metrics import roc_auc_score\n",
    "from sklearn.manifold import TSNE\n",
    "from sklearn.metrics import confusion_matrix\n",
    "from sklearn import linear_model\n",
    "from sklearn import metrics\n",
    "from sklearn.model_selection import GridSearchCV\n",
    "from sklearn.svm import LinearSVC\n",
    "from sklearn.svm import SVC\n",
    "from sklearn.tree import DecisionTreeClassifier\n",
    "from sklearn.ensemble import RandomForestClassifier\n",
    "from sklearn.ensemble import GradientBoostingClassifier\n",
    "\n",
    "# Importing tensorflow\n",
    "np.random.seed(42)\n",
    "import tensorflow as tf\n",
    "\n",
    "\n",
    "from keras import backend as K\n",
    "from keras.models import Sequential\n",
    "from keras.layers import LSTM , BatchNormalization\n",
    "from keras.layers.core import Dense, Dropout\n",
    "from keras.regularizers import L1L2\n",
    "from sklearn.model_selection import train_test_split\n",
    "from sklearn import preprocessing"
   ]
  },
  {
   "cell_type": "code",
   "execution_count": 1,
   "id": "ee33e495",
   "metadata": {},
   "outputs": [
    {
     "ename": "NameError",
     "evalue": "name 'np' is not defined",
     "output_type": "error",
     "traceback": [
      "\u001b[1;31m---------------------------------------------------------------------------\u001b[0m",
      "\u001b[1;31mNameError\u001b[0m                                 Traceback (most recent call last)",
      "\u001b[1;32m<ipython-input-1-2d3c0e57756b>\u001b[0m in \u001b[0;36m<module>\u001b[1;34m\u001b[0m\n\u001b[1;32m----> 1\u001b[1;33m \u001b[0mreformed_xdata\u001b[0m\u001b[1;33m=\u001b[0m\u001b[0mnp\u001b[0m\u001b[1;33m.\u001b[0m\u001b[0mload\u001b[0m\u001b[1;33m(\u001b[0m\u001b[1;34mr'C:\\Users\\ASUS\\Documents\\school\\Untitled Folder\\SleepySignals_X.npy'\u001b[0m\u001b[1;33m)\u001b[0m\u001b[1;33m\u001b[0m\u001b[1;33m\u001b[0m\u001b[0m\n\u001b[0m",
      "\u001b[1;31mNameError\u001b[0m: name 'np' is not defined"
     ]
    }
   ],
   "source": [
    "reformed_xdata=np.load(r'C:\\Users\\ASUS\\Documents\\school\\Untitled Folder\\SleepySignals_X.npy')"
   ]
  },
  {
   "cell_type": "code",
   "execution_count": 7,
   "id": "33488c66",
   "metadata": {},
   "outputs": [],
   "source": [
    "reformed_ydata=np.load(r'C:\\Users\\ASUS\\Documents\\school\\Untitled Folder\\SleepySignals_y.npy')"
   ]
  },
  {
   "cell_type": "code",
   "execution_count": 15,
   "id": "819e6089",
   "metadata": {},
   "outputs": [],
   "source": [
    "lb = preprocessing.LabelBinarizer()"
   ]
  },
  {
   "cell_type": "code",
   "execution_count": 16,
   "id": "cb41594b",
   "metadata": {},
   "outputs": [
    {
     "data": {
      "text/plain": [
       "LabelBinarizer()"
      ]
     },
     "execution_count": 16,
     "metadata": {},
     "output_type": "execute_result"
    }
   ],
   "source": [
    "lb.fit(reformed_ydata)"
   ]
  },
  {
   "cell_type": "code",
   "execution_count": 17,
   "id": "b4fcda4a",
   "metadata": {},
   "outputs": [],
   "source": [
    "reformed_ydata_binary=lb.transform(reformed_ydata)"
   ]
  },
  {
   "cell_type": "code",
   "execution_count": 18,
   "id": "efb0e7db",
   "metadata": {},
   "outputs": [],
   "source": [
    "xdata=np.asarray(reformed_xdata)"
   ]
  },
  {
   "cell_type": "code",
   "execution_count": 19,
   "id": "c6f87a07",
   "metadata": {},
   "outputs": [],
   "source": [
    "x_train, x_test, y_train, y_test = train_test_split(xdata, reformed_ydata_binary, test_size=0.2, random_state=42)"
   ]
  },
  {
   "cell_type": "code",
   "execution_count": 20,
   "id": "cac64209",
   "metadata": {},
   "outputs": [],
   "source": [
    "timesteps = len(x_train[0])\n",
    "input_dim = len(x_train[0][0])\n",
    "n_classes = len(y_train[0])"
   ]
  },
  {
   "cell_type": "code",
   "execution_count": 21,
   "id": "b00bbef7",
   "metadata": {},
   "outputs": [],
   "source": [
    "# Initializing parameters\n",
    "epochs = 30\n",
    "batch_size = 16\n",
    "n_hidden = 32"
   ]
  },
  {
   "cell_type": "code",
   "execution_count": 22,
   "id": "f33bd855",
   "metadata": {},
   "outputs": [],
   "source": [
    "# Activities are the class labels\n",
    "# It is a 6 class classification\n",
    "ACTIVITIES = {\n",
    "    0: 'W',\n",
    "    1: 'N1',\n",
    "    2: 'N2',\n",
    "    3: 'N3/N4',\n",
    "    4: 'REM'\n",
    "}\n",
    "\n",
    "\n",
    "# Raw data signals\n",
    "# Signals are from Accelerometer and Gyroscope\n",
    "# The signals are in x,y,z directions\n",
    "# Sensor signals are filtered to have only body acceleration\n",
    "# excluding the acceleration due to gravity\n",
    "# Triaxial acceleration from the accelerometer is total acceleration\n",
    "SIGNALS = [\n",
    "    \"channel1_gyo_x\",\n",
    "    \"channel1_gyo_y\",\n",
    "    \"channel1_gyo_z\",\n",
    "    \"channel2_gyo_x\",\n",
    "    \"channel2_gyo_y\",\n",
    "    \"channel2_gyo_z\",\n",
    "    \n",
    "    \n",
    "    \"channel1_acc_x\",\n",
    "    \"channel1_acc_y\",\n",
    "    \"channel1_acc_z\",\n",
    "    \"channel2_acc_x\",\n",
    "    \"channel2_acc_y\",\n",
    "    \"channel2_acc_z\",\n",
    "    \n",
    "    \"EEG1 channel 1\",\n",
    "    \"EEG1 channel 2\",\n",
    "    \"EEG2 channel 1\",\n",
    "    \"EEG2 channel 2\",\n",
    "]"
   ]
  },
  {
   "cell_type": "code",
   "execution_count": 23,
   "id": "21939a1e",
   "metadata": {},
   "outputs": [],
   "source": [
    "def confusion_matrix_dl(Y_true, Y_pred):\n",
    "    Y_true = pd.Series([ACTIVITIES[y] for y in np.argmax(Y_true, axis=1)])\n",
    "    Y_pred = pd.Series([ACTIVITIES[y] for y in np.argmax(Y_pred, axis=1)])\n",
    "    return pd.crosstab(Y_true, Y_pred, rownames=['True'], colnames=['Pred'])"
   ]
  },
  {
   "cell_type": "code",
   "execution_count": 24,
   "id": "0e8e49f7",
   "metadata": {},
   "outputs": [],
   "source": [
    "def plot_train_cv_loss(trained_model, epochs, colors=['b']):\n",
    "    fig, ax = plt.subplots(1,1)    \n",
    "    ax.set_xlabel('epoch') \n",
    "    ax.set_ylabel('Categorical Crossentropy Loss')\n",
    "    x_axis_values = list(range(1,epochs+1))\n",
    "\n",
    "    validation_loss = trained_model.history['val_loss']\n",
    "    train_loss = trained_model.history['loss']   \n",
    "    \n",
    "    ax.plot(x_axis_values, validation_loss, 'b', label=\"Validation Loss\")\n",
    "    ax.plot(x_axis_values, train_loss, 'r', label=\"Train Loss\")\n",
    "    plt.legend()\n",
    "    plt.grid()\n",
    "    fig.canvas.draw() "
   ]
  },
  {
   "cell_type": "code",
   "execution_count": 25,
   "id": "dacbe805",
   "metadata": {},
   "outputs": [],
   "source": [
    "def plot_confusion_matrix_lstm(y_test, y_predict):\n",
    "    result = confusion_matrix(y_test, y_predict)\n",
    "\n",
    "    plt.figure(figsize=(12, 10))\n",
    "    sns.heatmap(result, \n",
    "                xticklabels= list(ACTIVITIES.values()), \n",
    "                yticklabels=list(ACTIVITIES.values()), \n",
    "                annot=True, fmt=\"d\");\n",
    "    plt.title(\"Confusion matrix\")\n",
    "    plt.ylabel('True label')\n",
    "    plt.xlabel('Predicted label')\n",
    "    plt.show() "
   ]
  },
  {
   "cell_type": "code",
   "execution_count": 26,
   "id": "0864c4fc",
   "metadata": {},
   "outputs": [],
   "source": [
    "n_steps = 30;\n",
    "n_length = 100;\n",
    "n_features =input_dim ;\n",
    "\n",
    "x_train = x_train.reshape((x_train.shape[0], n_steps, n_length, n_features))\n",
    "x_test = x_test.reshape((x_test.shape[0], n_steps, n_length, n_features))"
   ]
  },
  {
   "cell_type": "code",
   "execution_count": 27,
   "id": "a4f195fc",
   "metadata": {},
   "outputs": [],
   "source": [
    "from keras.layers import TimeDistributed, Flatten\n",
    "from keras.layers.convolutional import Conv1D\n",
    "from keras.layers.convolutional import MaxPooling1D"
   ]
  },
  {
   "cell_type": "code",
   "execution_count": 28,
   "id": "aeb79ed5",
   "metadata": {},
   "outputs": [
    {
     "name": "stdout",
     "output_type": "stream",
     "text": [
      "WARNING:tensorflow:From C:\\Users\\ASUS\\Anaconda3\\envs\\sleepnet\\lib\\site-packages\\tensorflow\\python\\framework\\op_def_library.py:263: colocate_with (from tensorflow.python.framework.ops) is deprecated and will be removed in a future version.\n",
      "Instructions for updating:\n",
      "Colocations handled automatically by placer.\n",
      "WARNING:tensorflow:From C:\\Users\\ASUS\\Anaconda3\\envs\\sleepnet\\lib\\site-packages\\keras\\backend\\tensorflow_backend.py:3445: calling dropout (from tensorflow.python.ops.nn_ops) with keep_prob is deprecated and will be removed in a future version.\n",
      "Instructions for updating:\n",
      "Please use `rate` instead of `keep_prob`. Rate should be set to `rate = 1 - keep_prob`.\n",
      "Model Summary: \n",
      "_________________________________________________________________\n",
      "Layer (type)                 Output Shape              Param #   \n",
      "=================================================================\n",
      "time_distributed_1 (TimeDist (None, None, 98, 64)      3136      \n",
      "_________________________________________________________________\n",
      "time_distributed_2 (TimeDist (None, None, 96, 64)      12352     \n",
      "_________________________________________________________________\n",
      "time_distributed_3 (TimeDist (None, None, 96, 64)      0         \n",
      "_________________________________________________________________\n",
      "time_distributed_4 (TimeDist (None, None, 48, 64)      0         \n",
      "_________________________________________________________________\n",
      "time_distributed_5 (TimeDist (None, None, 3072)        0         \n",
      "_________________________________________________________________\n",
      "lstm_1 (LSTM)                (None, 100)               1269200   \n",
      "_________________________________________________________________\n",
      "dropout_2 (Dropout)          (None, 100)               0         \n",
      "_________________________________________________________________\n",
      "dense_1 (Dense)              (None, 100)               10100     \n",
      "_________________________________________________________________\n",
      "dense_2 (Dense)              (None, 5)                 505       \n",
      "=================================================================\n",
      "Total params: 1,295,293\n",
      "Trainable params: 1,295,293\n",
      "Non-trainable params: 0\n",
      "_________________________________________________________________\n"
     ]
    }
   ],
   "source": [
    "# define model\n",
    "model = Sequential()\n",
    "model.add(TimeDistributed(Conv1D(filters=64, kernel_size=3, activation='relu'), input_shape=(None,n_length,n_features)))\n",
    "model.add(TimeDistributed(Conv1D(filters=64, kernel_size=3, activation='relu')))\n",
    "model.add(TimeDistributed(Dropout(0.5)))\n",
    "model.add(TimeDistributed(MaxPooling1D(pool_size=2)))\n",
    "model.add(TimeDistributed(Flatten()))\n",
    "model.add(LSTM(100))\n",
    "model.add(Dropout(0.5))\n",
    "model.add(Dense(100, activation='relu'))\n",
    "model.add(Dense(n_classes, activation='softmax'))\n",
    "print(\"Model Summary: \")\n",
    "model.summary()"
   ]
  },
  {
   "cell_type": "code",
   "execution_count": 29,
   "id": "a911e10a",
   "metadata": {},
   "outputs": [],
   "source": [
    "model.compile(loss='categorical_crossentropy', optimizer='adam', metrics=['accuracy'])"
   ]
  },
  {
   "cell_type": "code",
   "execution_count": 30,
   "id": "4e0dbdca",
   "metadata": {},
   "outputs": [
    {
     "name": "stdout",
     "output_type": "stream",
     "text": [
      "WARNING:tensorflow:From C:\\Users\\ASUS\\Anaconda3\\envs\\sleepnet\\lib\\site-packages\\tensorflow\\python\\ops\\math_ops.py:3066: to_int32 (from tensorflow.python.ops.math_ops) is deprecated and will be removed in a future version.\n",
      "Instructions for updating:\n",
      "Use tf.cast instead.\n",
      "Train on 7856 samples, validate on 1964 samples\n",
      "Epoch 1/20\n",
      "7856/7856 [==============================] - 205s 26ms/step - loss: 0.7194 - acc: 0.7503 - val_loss: 0.4410 - val_acc: 0.8651\n",
      "Epoch 2/20\n",
      " 912/7856 [==>...........................] - ETA: 3:15 - loss: 0.4336 - acc: 0.8531"
     ]
    },
    {
     "ename": "KeyboardInterrupt",
     "evalue": "",
     "output_type": "error",
     "traceback": [
      "\u001b[1;31m---------------------------------------------------------------------------\u001b[0m",
      "\u001b[1;31mKeyboardInterrupt\u001b[0m                         Traceback (most recent call last)",
      "\u001b[1;32m<ipython-input-30-e7a75027f064>\u001b[0m in \u001b[0;36m<module>\u001b[1;34m\u001b[0m\n\u001b[0;32m      7\u001b[0m                            \u001b[0mbatch_size\u001b[0m\u001b[1;33m=\u001b[0m\u001b[0mn_batch\u001b[0m\u001b[1;33m,\u001b[0m\u001b[1;33m\u001b[0m\u001b[1;33m\u001b[0m\u001b[0m\n\u001b[0;32m      8\u001b[0m                            \u001b[0mvalidation_data\u001b[0m\u001b[1;33m=\u001b[0m\u001b[1;33m(\u001b[0m\u001b[0mx_test\u001b[0m\u001b[1;33m,\u001b[0m \u001b[0my_test\u001b[0m\u001b[1;33m)\u001b[0m\u001b[1;33m,\u001b[0m\u001b[1;33m\u001b[0m\u001b[1;33m\u001b[0m\u001b[0m\n\u001b[1;32m----> 9\u001b[1;33m                            epochs=n_epochs,callbacks=[callback])\n\u001b[0m\u001b[0;32m     10\u001b[0m \u001b[1;33m\u001b[0m\u001b[0m\n\u001b[0;32m     11\u001b[0m \u001b[0mprint\u001b[0m\u001b[1;33m(\u001b[0m\u001b[1;34m\"\\n Time Taken: \"\u001b[0m\u001b[1;33m,\u001b[0m\u001b[0mdatetime\u001b[0m\u001b[1;33m.\u001b[0m\u001b[0mnow\u001b[0m\u001b[1;33m(\u001b[0m\u001b[1;33m)\u001b[0m \u001b[1;33m-\u001b[0m \u001b[0mstart\u001b[0m\u001b[1;33m)\u001b[0m\u001b[1;33m\u001b[0m\u001b[1;33m\u001b[0m\u001b[0m\n",
      "\u001b[1;32m~\\Anaconda3\\envs\\sleepnet\\lib\\site-packages\\keras\\engine\\training.py\u001b[0m in \u001b[0;36mfit\u001b[1;34m(self, x, y, batch_size, epochs, verbose, callbacks, validation_split, validation_data, shuffle, class_weight, sample_weight, initial_epoch, steps_per_epoch, validation_steps, **kwargs)\u001b[0m\n\u001b[0;32m   1037\u001b[0m                                         \u001b[0minitial_epoch\u001b[0m\u001b[1;33m=\u001b[0m\u001b[0minitial_epoch\u001b[0m\u001b[1;33m,\u001b[0m\u001b[1;33m\u001b[0m\u001b[1;33m\u001b[0m\u001b[0m\n\u001b[0;32m   1038\u001b[0m                                         \u001b[0msteps_per_epoch\u001b[0m\u001b[1;33m=\u001b[0m\u001b[0msteps_per_epoch\u001b[0m\u001b[1;33m,\u001b[0m\u001b[1;33m\u001b[0m\u001b[1;33m\u001b[0m\u001b[0m\n\u001b[1;32m-> 1039\u001b[1;33m                                         validation_steps=validation_steps)\n\u001b[0m\u001b[0;32m   1040\u001b[0m \u001b[1;33m\u001b[0m\u001b[0m\n\u001b[0;32m   1041\u001b[0m     def evaluate(self, x=None, y=None,\n",
      "\u001b[1;32m~\\Anaconda3\\envs\\sleepnet\\lib\\site-packages\\keras\\engine\\training_arrays.py\u001b[0m in \u001b[0;36mfit_loop\u001b[1;34m(model, f, ins, out_labels, batch_size, epochs, verbose, callbacks, val_f, val_ins, shuffle, callback_metrics, initial_epoch, steps_per_epoch, validation_steps)\u001b[0m\n\u001b[0;32m    197\u001b[0m                     \u001b[0mins_batch\u001b[0m\u001b[1;33m[\u001b[0m\u001b[0mi\u001b[0m\u001b[1;33m]\u001b[0m \u001b[1;33m=\u001b[0m \u001b[0mins_batch\u001b[0m\u001b[1;33m[\u001b[0m\u001b[0mi\u001b[0m\u001b[1;33m]\u001b[0m\u001b[1;33m.\u001b[0m\u001b[0mtoarray\u001b[0m\u001b[1;33m(\u001b[0m\u001b[1;33m)\u001b[0m\u001b[1;33m\u001b[0m\u001b[1;33m\u001b[0m\u001b[0m\n\u001b[0;32m    198\u001b[0m \u001b[1;33m\u001b[0m\u001b[0m\n\u001b[1;32m--> 199\u001b[1;33m                 \u001b[0mouts\u001b[0m \u001b[1;33m=\u001b[0m \u001b[0mf\u001b[0m\u001b[1;33m(\u001b[0m\u001b[0mins_batch\u001b[0m\u001b[1;33m)\u001b[0m\u001b[1;33m\u001b[0m\u001b[1;33m\u001b[0m\u001b[0m\n\u001b[0m\u001b[0;32m    200\u001b[0m                 \u001b[0mouts\u001b[0m \u001b[1;33m=\u001b[0m \u001b[0mto_list\u001b[0m\u001b[1;33m(\u001b[0m\u001b[0mouts\u001b[0m\u001b[1;33m)\u001b[0m\u001b[1;33m\u001b[0m\u001b[1;33m\u001b[0m\u001b[0m\n\u001b[0;32m    201\u001b[0m                 \u001b[1;32mfor\u001b[0m \u001b[0ml\u001b[0m\u001b[1;33m,\u001b[0m \u001b[0mo\u001b[0m \u001b[1;32min\u001b[0m \u001b[0mzip\u001b[0m\u001b[1;33m(\u001b[0m\u001b[0mout_labels\u001b[0m\u001b[1;33m,\u001b[0m \u001b[0mouts\u001b[0m\u001b[1;33m)\u001b[0m\u001b[1;33m:\u001b[0m\u001b[1;33m\u001b[0m\u001b[1;33m\u001b[0m\u001b[0m\n",
      "\u001b[1;32m~\\Anaconda3\\envs\\sleepnet\\lib\\site-packages\\keras\\backend\\tensorflow_backend.py\u001b[0m in \u001b[0;36m__call__\u001b[1;34m(self, inputs)\u001b[0m\n\u001b[0;32m   2713\u001b[0m                 \u001b[1;32mreturn\u001b[0m \u001b[0mself\u001b[0m\u001b[1;33m.\u001b[0m\u001b[0m_legacy_call\u001b[0m\u001b[1;33m(\u001b[0m\u001b[0minputs\u001b[0m\u001b[1;33m)\u001b[0m\u001b[1;33m\u001b[0m\u001b[1;33m\u001b[0m\u001b[0m\n\u001b[0;32m   2714\u001b[0m \u001b[1;33m\u001b[0m\u001b[0m\n\u001b[1;32m-> 2715\u001b[1;33m             \u001b[1;32mreturn\u001b[0m \u001b[0mself\u001b[0m\u001b[1;33m.\u001b[0m\u001b[0m_call\u001b[0m\u001b[1;33m(\u001b[0m\u001b[0minputs\u001b[0m\u001b[1;33m)\u001b[0m\u001b[1;33m\u001b[0m\u001b[1;33m\u001b[0m\u001b[0m\n\u001b[0m\u001b[0;32m   2716\u001b[0m         \u001b[1;32melse\u001b[0m\u001b[1;33m:\u001b[0m\u001b[1;33m\u001b[0m\u001b[1;33m\u001b[0m\u001b[0m\n\u001b[0;32m   2717\u001b[0m             \u001b[1;32mif\u001b[0m \u001b[0mpy_any\u001b[0m\u001b[1;33m(\u001b[0m\u001b[0mis_tensor\u001b[0m\u001b[1;33m(\u001b[0m\u001b[0mx\u001b[0m\u001b[1;33m)\u001b[0m \u001b[1;32mfor\u001b[0m \u001b[0mx\u001b[0m \u001b[1;32min\u001b[0m \u001b[0minputs\u001b[0m\u001b[1;33m)\u001b[0m\u001b[1;33m:\u001b[0m\u001b[1;33m\u001b[0m\u001b[1;33m\u001b[0m\u001b[0m\n",
      "\u001b[1;32m~\\Anaconda3\\envs\\sleepnet\\lib\\site-packages\\keras\\backend\\tensorflow_backend.py\u001b[0m in \u001b[0;36m_call\u001b[1;34m(self, inputs)\u001b[0m\n\u001b[0;32m   2673\u001b[0m             \u001b[0mfetched\u001b[0m \u001b[1;33m=\u001b[0m \u001b[0mself\u001b[0m\u001b[1;33m.\u001b[0m\u001b[0m_callable_fn\u001b[0m\u001b[1;33m(\u001b[0m\u001b[1;33m*\u001b[0m\u001b[0marray_vals\u001b[0m\u001b[1;33m,\u001b[0m \u001b[0mrun_metadata\u001b[0m\u001b[1;33m=\u001b[0m\u001b[0mself\u001b[0m\u001b[1;33m.\u001b[0m\u001b[0mrun_metadata\u001b[0m\u001b[1;33m)\u001b[0m\u001b[1;33m\u001b[0m\u001b[1;33m\u001b[0m\u001b[0m\n\u001b[0;32m   2674\u001b[0m         \u001b[1;32melse\u001b[0m\u001b[1;33m:\u001b[0m\u001b[1;33m\u001b[0m\u001b[1;33m\u001b[0m\u001b[0m\n\u001b[1;32m-> 2675\u001b[1;33m             \u001b[0mfetched\u001b[0m \u001b[1;33m=\u001b[0m \u001b[0mself\u001b[0m\u001b[1;33m.\u001b[0m\u001b[0m_callable_fn\u001b[0m\u001b[1;33m(\u001b[0m\u001b[1;33m*\u001b[0m\u001b[0marray_vals\u001b[0m\u001b[1;33m)\u001b[0m\u001b[1;33m\u001b[0m\u001b[1;33m\u001b[0m\u001b[0m\n\u001b[0m\u001b[0;32m   2676\u001b[0m         \u001b[1;32mreturn\u001b[0m \u001b[0mfetched\u001b[0m\u001b[1;33m[\u001b[0m\u001b[1;33m:\u001b[0m\u001b[0mlen\u001b[0m\u001b[1;33m(\u001b[0m\u001b[0mself\u001b[0m\u001b[1;33m.\u001b[0m\u001b[0moutputs\u001b[0m\u001b[1;33m)\u001b[0m\u001b[1;33m]\u001b[0m\u001b[1;33m\u001b[0m\u001b[1;33m\u001b[0m\u001b[0m\n\u001b[0;32m   2677\u001b[0m \u001b[1;33m\u001b[0m\u001b[0m\n",
      "\u001b[1;32m~\\Anaconda3\\envs\\sleepnet\\lib\\site-packages\\tensorflow\\python\\client\\session.py\u001b[0m in \u001b[0;36m__call__\u001b[1;34m(self, *args, **kwargs)\u001b[0m\n\u001b[0;32m   1437\u001b[0m           ret = tf_session.TF_SessionRunCallable(\n\u001b[0;32m   1438\u001b[0m               \u001b[0mself\u001b[0m\u001b[1;33m.\u001b[0m\u001b[0m_session\u001b[0m\u001b[1;33m.\u001b[0m\u001b[0m_session\u001b[0m\u001b[1;33m,\u001b[0m \u001b[0mself\u001b[0m\u001b[1;33m.\u001b[0m\u001b[0m_handle\u001b[0m\u001b[1;33m,\u001b[0m \u001b[0margs\u001b[0m\u001b[1;33m,\u001b[0m \u001b[0mstatus\u001b[0m\u001b[1;33m,\u001b[0m\u001b[1;33m\u001b[0m\u001b[1;33m\u001b[0m\u001b[0m\n\u001b[1;32m-> 1439\u001b[1;33m               run_metadata_ptr)\n\u001b[0m\u001b[0;32m   1440\u001b[0m         \u001b[1;32mif\u001b[0m \u001b[0mrun_metadata\u001b[0m\u001b[1;33m:\u001b[0m\u001b[1;33m\u001b[0m\u001b[1;33m\u001b[0m\u001b[0m\n\u001b[0;32m   1441\u001b[0m           \u001b[0mproto_data\u001b[0m \u001b[1;33m=\u001b[0m \u001b[0mtf_session\u001b[0m\u001b[1;33m.\u001b[0m\u001b[0mTF_GetBuffer\u001b[0m\u001b[1;33m(\u001b[0m\u001b[0mrun_metadata_ptr\u001b[0m\u001b[1;33m)\u001b[0m\u001b[1;33m\u001b[0m\u001b[1;33m\u001b[0m\u001b[0m\n",
      "\u001b[1;31mKeyboardInterrupt\u001b[0m: "
     ]
    }
   ],
   "source": [
    "callback = tf.keras.callbacks.EarlyStopping(monitor='loss', patience=3)\n",
    "start = datetime.now()\n",
    "n_epochs=20;n_batch = 16;\n",
    "# Training the model\n",
    "trained_model_CNN_LSTM  = model.fit(x_train,\n",
    "                           y_train,\n",
    "                           batch_size=n_batch,\n",
    "                           validation_data=(x_test, y_test),\n",
    "                           epochs=n_epochs,callbacks=[callback])\n",
    "\n",
    "print(\"\\n Time Taken: \",datetime.now() - start)"
   ]
  },
  {
   "cell_type": "code",
   "execution_count": 31,
   "id": "3a497f54",
   "metadata": {},
   "outputs": [],
   "source": [
    "from tensorflow.keras import optimizers, losses, activations, models\n",
    "from tensorflow.keras.models import Model, load_model\n",
    "from tensorflow.keras.layers import GlobalMaxPool1D, GlobalAveragePooling1D, concatenate, SpatialDropout1D, TimeDistributed, Bidirectional, LSTM\n",
    "from tensorflow.keras.layers import Input, Conv1D, Dense, Dropout, MaxPool1D, Activation\n",
    "from tensorflow.keras.layers import Reshape, LSTM, TimeDistributed, Bidirectional, BatchNormalization, Flatten, RepeatVector\n",
    "from tensorflow.keras.optimizers import Adam\n",
    "from keras_contrib.layers import CRF"
   ]
  },
  {
   "cell_type": "code",
   "execution_count": 34,
   "id": "0dcb3750",
   "metadata": {},
   "outputs": [],
   "source": [
    "WINDOW_SIZE = 100\n",
    "Fs = 100"
   ]
  },
  {
   "cell_type": "code",
   "execution_count": 41,
   "id": "49fe9404",
   "metadata": {},
   "outputs": [],
   "source": [
    "def model_b(n_classes=5, use_sub_layer=False, use_rnn=True, verbose=False):\n",
    "    \"\"\"Recurrent_Deep_Neural_Networks_for_Real-Time_Sleep\n",
    "    \"\"\"\n",
    "    inputLayer = Input(shape=(3000, 16), name='inLayer')\n",
    "    convFine = Conv1D(filters=64, kernel_size=int(Fs/2), strides=int(Fs/16), padding='same', activation='relu', name='fConv1')(inputLayer)\n",
    "    convFine = MaxPool1D(pool_size=8, strides=8, name='fMaxP1')(convFine)\n",
    "    convFine = Dropout(rate=0.5, name='fDrop1')(convFine)\n",
    "    convFine = Conv1D(filters=128, kernel_size=8, padding='same', activation='relu', name='fConv2')(convFine)\n",
    "    convFine = Conv1D(filters=128, kernel_size=8, padding='same', activation='relu', name='fConv3')(convFine)\n",
    "    convFine = Conv1D(filters=128, kernel_size=8, padding='same', activation='relu', name='fConv4')(convFine)\n",
    "    convFine = MaxPool1D(pool_size=4, strides=4, name='fMaxP2')(convFine)\n",
    "    fineShape = convFine.get_shape()\n",
    "    convFine = Flatten(name='fFlat1')(convFine)\n",
    "    \n",
    "    # network to learn coarse features\n",
    "    convCoarse = Conv1D(filters=32, kernel_size=Fs*4, strides=int(Fs/2), padding='same', activation='relu', name='cConv1')(inputLayer)\n",
    "    convCoarse = MaxPool1D(pool_size=4, strides=4, name='cMaxP1')(convCoarse)\n",
    "    convCoarse = Dropout(rate=0.5, name='cDrop1')(convCoarse)\n",
    "    convCoarse = Conv1D(filters=128, kernel_size=6, padding='same', activation='relu', name='cConv2')(convCoarse)\n",
    "    convCoarse = Conv1D(filters=128, kernel_size=6, padding='same', activation='relu', name='cConv3')(convCoarse)\n",
    "    convCoarse = Conv1D(filters=128, kernel_size=6, padding='same', activation='relu', name='cConv4')(convCoarse)\n",
    "    convCoarse = MaxPool1D(pool_size=2, strides=2, name='cMaxP2')(convCoarse)\n",
    "    coarseShape = convCoarse.get_shape()\n",
    "    convCoarse = Flatten(name='cFlat1')(convCoarse)\n",
    "    \n",
    "    # concatenate coarse and fine cnns\n",
    "    mergeLayer = concatenate([convFine, convCoarse], name='merge_1')\n",
    "    outLayer = Dropout(rate=0.5, name='mDrop1')(mergeLayer)\n",
    "    \n",
    "    outLayer = Reshape((1, outLayer.get_shape()[1]), name='reshape1')(outLayer)\n",
    "    outLayer = LSTM(64, return_sequences=True)(outLayer)\n",
    "    outLayer = LSTM(64, return_sequences=False)(outLayer)\n",
    "\n",
    "    # Classify\n",
    "    outLayer = Dense(n_classes, activation='softmax', name='outLayer')(outLayer)\n",
    "    model = Model(inputLayer, outLayer)\n",
    "    optimizer = Adam(lr=1e-4)\n",
    "    model.compile(optimizer=optimizer, loss='categorical_crossentropy', metrics=['acc'])\n",
    "    if verbose:\n",
    "        model.summary()\n",
    "    return model"
   ]
  },
  {
   "cell_type": "code",
   "execution_count": null,
   "id": "975e9060",
   "metadata": {},
   "outputs": [],
   "source": []
  },
  {
   "cell_type": "code",
   "execution_count": 42,
   "id": "6f9d40bc",
   "metadata": {},
   "outputs": [],
   "source": [
    "model_CRF=model_b()"
   ]
  },
  {
   "cell_type": "code",
   "execution_count": 39,
   "id": "f00002a2",
   "metadata": {},
   "outputs": [],
   "source": [
    "x_train = x_train.reshape((x_train.shape[0],3000, n_features))\n",
    "x_test = x_test.reshape((x_test.shape[0], 3000, n_features))"
   ]
  },
  {
   "cell_type": "code",
   "execution_count": 43,
   "id": "bca439c3",
   "metadata": {},
   "outputs": [
    {
     "name": "stdout",
     "output_type": "stream",
     "text": [
      "Train on 7856 samples, validate on 1964 samples\n",
      "Epoch 1/30\n",
      "7856/7856 [==============================] - 74s 9ms/sample - loss: 1.0908 - acc: 0.6302 - val_loss: 0.9622 - val_acc: 0.6858\n",
      "Epoch 2/30\n",
      "7856/7856 [==============================] - 68s 9ms/sample - loss: 0.8896 - acc: 0.7219 - val_loss: 0.7869 - val_acc: 0.7704\n",
      "Epoch 3/30\n",
      "7856/7856 [==============================] - 69s 9ms/sample - loss: 0.7457 - acc: 0.7685 - val_loss: 0.6733 - val_acc: 0.7948\n",
      "Epoch 4/30\n",
      "7856/7856 [==============================] - 50s 6ms/sample - loss: 0.6561 - acc: 0.7851 - val_loss: 0.5512 - val_acc: 0.8065\n",
      "Epoch 5/30\n",
      "7856/7856 [==============================] - 55s 7ms/sample - loss: 0.5336 - acc: 0.8271 - val_loss: 0.4861 - val_acc: 0.8315\n",
      "Epoch 6/30\n",
      "7856/7856 [==============================] - 55s 7ms/sample - loss: 0.4440 - acc: 0.8633 - val_loss: 0.4086 - val_acc: 0.8712\n",
      "Epoch 7/30\n",
      "7856/7856 [==============================] - 57s 7ms/sample - loss: 0.3828 - acc: 0.8759 - val_loss: 0.3073 - val_acc: 0.9043\n",
      "Epoch 8/30\n",
      "7856/7856 [==============================] - 57s 7ms/sample - loss: 0.3540 - acc: 0.8817 - val_loss: 0.3121 - val_acc: 0.9027\n",
      "Epoch 9/30\n",
      "7856/7856 [==============================] - 58s 7ms/sample - loss: 0.3316 - acc: 0.8849 - val_loss: 0.3033 - val_acc: 0.9038\n",
      "Epoch 10/30\n",
      "7856/7856 [==============================] - 58s 7ms/sample - loss: 0.3240 - acc: 0.8907 - val_loss: 0.3058 - val_acc: 0.9002\n",
      "Epoch 11/30\n",
      "7856/7856 [==============================] - 58s 7ms/sample - loss: 0.3149 - acc: 0.8904 - val_loss: 0.2955 - val_acc: 0.8992\n",
      "Epoch 12/30\n",
      "7856/7856 [==============================] - 58s 7ms/sample - loss: 0.2901 - acc: 0.8970 - val_loss: 0.2494 - val_acc: 0.9119\n",
      "Epoch 13/30\n",
      "7856/7856 [==============================] - 58s 7ms/sample - loss: 0.2894 - acc: 0.8942 - val_loss: 0.2854 - val_acc: 0.9022\n",
      "Epoch 14/30\n",
      "7856/7856 [==============================] - 58s 7ms/sample - loss: 0.2746 - acc: 0.8998 - val_loss: 0.2399 - val_acc: 0.9226\n",
      "Epoch 15/30\n",
      "7856/7856 [==============================] - 58s 7ms/sample - loss: 0.2728 - acc: 0.8980 - val_loss: 0.2428 - val_acc: 0.9185\n",
      "Epoch 16/30\n",
      "7856/7856 [==============================] - 58s 7ms/sample - loss: 0.2624 - acc: 0.9024 - val_loss: 0.2169 - val_acc: 0.9185\n",
      "Epoch 17/30\n",
      "7856/7856 [==============================] - 56s 7ms/sample - loss: 0.2608 - acc: 0.9019 - val_loss: 0.2357 - val_acc: 0.9216\n",
      "Epoch 18/30\n",
      "7856/7856 [==============================] - 57s 7ms/sample - loss: 0.2514 - acc: 0.9058 - val_loss: 0.2643 - val_acc: 0.9022\n",
      "Epoch 19/30\n",
      "7856/7856 [==============================] - 57s 7ms/sample - loss: 0.2499 - acc: 0.9027 - val_loss: 0.2022 - val_acc: 0.9241\n",
      "Epoch 20/30\n",
      "7856/7856 [==============================] - 58s 7ms/sample - loss: 0.2548 - acc: 0.9029 - val_loss: 0.2250 - val_acc: 0.9140\n",
      "Epoch 21/30\n",
      "7856/7856 [==============================] - 57s 7ms/sample - loss: 0.2483 - acc: 0.9055 - val_loss: 0.2249 - val_acc: 0.9216\n",
      "Epoch 22/30\n",
      "7856/7856 [==============================] - 58s 7ms/sample - loss: 0.2402 - acc: 0.9103 - val_loss: 0.1773 - val_acc: 0.9379\n",
      "Epoch 23/30\n",
      "7856/7856 [==============================] - 59s 8ms/sample - loss: 0.2336 - acc: 0.9089 - val_loss: 0.1952 - val_acc: 0.9384\n",
      "Epoch 24/30\n",
      "7856/7856 [==============================] - 58s 7ms/sample - loss: 0.2288 - acc: 0.9126 - val_loss: 0.1818 - val_acc: 0.9302\n",
      "Epoch 25/30\n",
      "7856/7856 [==============================] - 58s 7ms/sample - loss: 0.2369 - acc: 0.9106 - val_loss: 0.1832 - val_acc: 0.9282\n",
      "Epoch 26/30\n",
      "7856/7856 [==============================] - 57s 7ms/sample - loss: 0.2152 - acc: 0.9180 - val_loss: 0.1725 - val_acc: 0.9338\n",
      "Epoch 27/30\n",
      "7856/7856 [==============================] - 59s 8ms/sample - loss: 0.2343 - acc: 0.9108 - val_loss: 0.1956 - val_acc: 0.9272\n",
      "Epoch 28/30\n",
      "7856/7856 [==============================] - 58s 7ms/sample - loss: 0.2210 - acc: 0.9157 - val_loss: 0.1937 - val_acc: 0.9267\n",
      "Epoch 29/30\n",
      "7856/7856 [==============================] - 59s 8ms/sample - loss: 0.2098 - acc: 0.9189 - val_loss: 0.1906 - val_acc: 0.9196\n",
      "Epoch 30/30\n",
      "7856/7856 [==============================] - 59s 8ms/sample - loss: 0.2318 - acc: 0.9154 - val_loss: 0.1845 - val_acc: 0.9308\n",
      "\n",
      " Time Taken:  0:29:27.130846\n"
     ]
    }
   ],
   "source": [
    "callback = tf.keras.callbacks.EarlyStopping(monitor='loss', patience=3)\n",
    "start = datetime.now()\n",
    "n_epochs=30;n_batch=16;\n",
    "# Training the model\n",
    "trained_model_CRF= model_CRF.fit(x_train,\n",
    "                           y_train,\n",
    "                           batch_size=n_batch,\n",
    "                           validation_data=(x_test, y_test),\n",
    "                           epochs=n_epochs,callbacks=[callback])\n",
    "\n",
    "print(\"\\n Time Taken: \",datetime.now() - start)"
   ]
  },
  {
   "cell_type": "code",
   "execution_count": 47,
   "id": "ebd0f323",
   "metadata": {},
   "outputs": [],
   "source": [
    "y_full_predicted=model_CRF.predict(xdata)"
   ]
  },
  {
   "cell_type": "code",
   "execution_count": 74,
   "id": "7ced58ee",
   "metadata": {},
   "outputs": [],
   "source": [
    "y_predicted=model_CRF.predict(x_test)"
   ]
  },
  {
   "cell_type": "code",
   "execution_count": 48,
   "id": "61d7b4c2",
   "metadata": {},
   "outputs": [],
   "source": [
    "first_patient_duration=982;"
   ]
  },
  {
   "cell_type": "code",
   "execution_count": 49,
   "id": "a320a4ed",
   "metadata": {},
   "outputs": [],
   "source": [
    "Y_pred_value = [y for y in np.argmax(y_full_predicted, axis=1)]"
   ]
  },
  {
   "cell_type": "code",
   "execution_count": 60,
   "id": "a5e37379",
   "metadata": {},
   "outputs": [],
   "source": [
    "Y_true_value = [y for y in np.argmax(reformed_ydata, axis=1)]"
   ]
  },
  {
   "cell_type": "code",
   "execution_count": 70,
   "id": "598fca11",
   "metadata": {},
   "outputs": [
    {
     "data": {
      "text/plain": [
       "<matplotlib.legend.Legend at 0x1a04b55ccc8>"
      ]
     },
     "execution_count": 70,
     "metadata": {},
     "output_type": "execute_result"
    },
    {
     "data": {
      "image/png": "[encoded data removed]",
      "text/plain": [
       "<Figure size 432x288 with 1 Axes>"
      ]
     },
     "metadata": {
      "needs_background": "light"
     },
     "output_type": "display_data"
    }
   ],
   "source": [
    "plt.plot(range(len(reformed_ydata[:first_patient_duration])),Y_true_value[:first_patient_duration],label='True Label')\n",
    "plt.plot(range(len(reformed_ydata[:first_patient_duration])),Y_pred_value[:first_patient_duration],label='Predicted Label')\n",
    "plt.legend()"
   ]
  },
  {
   "cell_type": "code",
   "execution_count": 67,
   "id": "23535453",
   "metadata": {},
   "outputs": [
    {
     "name": "stdout",
     "output_type": "stream",
     "text": [
      "\n",
      "Test Accuracy: 93.075359%\n",
      "\n"
     ]
    },
    {
     "data": {
      "image/png": "[encoded data removed]",
      "text/plain": [
       "<Figure size 864x720 with 2 Axes>"
      ]
     },
     "metadata": {
      "needs_background": "light"
     },
     "output_type": "display_data"
    }
   ],
   "source": [
    "print()\n",
    "scores = model_CRF.evaluate(x_test, y_test, verbose=0)\n",
    "print(\"Test Accuracy: %f%%\" % (scores[1]*100))\n",
    "print()\n",
    "\n",
    "Y_true = pd.Series([ACTIVITIES[y] for y in np.argmax(y_test, axis=1)])\n",
    "Y_predictions = pd.Series([ACTIVITIES[y] for y in np.argmax(model_CRF.predict(x_test), axis=1)])\n",
    "\n",
    "# Confusion Matrix\n",
    "plot_confusion_matrix_lstm(Y_true, Y_predictions)"
   ]
  },
  {
   "cell_type": "code",
   "execution_count": 69,
   "id": "8948a629",
   "metadata": {},
   "outputs": [
    {
     "data": {
      "image/png": "[encoded data removed]",
      "text/plain": [
       "<Figure size 432x288 with 1 Axes>"
      ]
     },
     "metadata": {
      "needs_background": "light"
     },
     "output_type": "display_data"
    }
   ],
   "source": [
    "# Plot train and cross validation error\n",
    "plot_train_cv_loss(trained_model_CRF, n_epochs)"
   ]
  },
  {
   "cell_type": "code",
   "execution_count": 103,
   "id": "afe0478c",
   "metadata": {},
   "outputs": [],
   "source": [
    "from sklearn.metrics import classification_report, roc_curve, auc,roc_auc_score,cohen_kappa_score\n",
    "from scipy import interp\n",
    "from itertools import cycle"
   ]
  },
  {
   "cell_type": "code",
   "execution_count": 82,
   "id": "62176199",
   "metadata": {},
   "outputs": [
    {
     "data": {
      "text/plain": [
       "0.990111515313397"
      ]
     },
     "execution_count": 82,
     "metadata": {},
     "output_type": "execute_result"
    }
   ],
   "source": [
    "roc_auc_score(y_test, y_predicted, average=\"weighted\", multi_class=\"ovr\")"
   ]
  },
  {
   "cell_type": "code",
   "execution_count": 86,
   "id": "ce17258f",
   "metadata": {},
   "outputs": [
    {
     "data": {
      "text/plain": [
       "0.8633666592825981"
      ]
     },
     "execution_count": 86,
     "metadata": {},
     "output_type": "execute_result"
    }
   ],
   "source": [
    "cohen_kappa_score(Y_true_value, Y_pred_value)"
   ]
  },
  {
   "cell_type": "code",
   "execution_count": 93,
   "id": "1c771088",
   "metadata": {},
   "outputs": [
    {
     "name": "stdout",
     "output_type": "stream",
     "text": [
      "              precision    recall  f1-score   support\n",
      "\n",
      "           0       0.86      0.98      0.92      1680\n",
      "           1       1.00      0.21      0.34       240\n",
      "           2       0.96      0.93      0.95      6130\n",
      "           3       0.54      0.79      0.65       390\n",
      "           4       1.00      0.97      0.99      1380\n",
      "\n",
      "    accuracy                           0.92      9820\n",
      "   macro avg       0.87      0.78      0.77      9820\n",
      "weighted avg       0.93      0.92      0.92      9820\n",
      "\n"
     ]
    }
   ],
   "source": [
    "print(classification_report(Y_true_value, Y_pred_value))"
   ]
  },
  {
   "cell_type": "code",
   "execution_count": 99,
   "id": "cc44e9c4",
   "metadata": {},
   "outputs": [],
   "source": [
    "# Compute ROC curve and ROC area for each class\n",
    "fpr = dict()\n",
    "tpr = dict()\n",
    "roc_auc = dict()\n",
    "for i in range(n_classes):\n",
    "    fpr[i], tpr[i], _ = roc_curve(y_test[:, i], y_predicted[:, i])\n",
    "    roc_auc[i] = auc(fpr[i], tpr[i])\n",
    "\n",
    "# Compute micro-average ROC curve and ROC area\n",
    "fpr[\"micro\"], tpr[\"micro\"], _ = roc_curve(y_test.ravel(), y_predicted.ravel())\n",
    "roc_auc[\"micro\"] = auc(fpr[\"micro\"], tpr[\"micro\"])"
   ]
  },
  {
   "cell_type": "code",
   "execution_count": 105,
   "id": "7c4bd1a7",
   "metadata": {
    "scrolled": true
   },
   "outputs": [
    {
     "data": {
      "image/png": "[encoded data removed]",
      "text/plain": [
       "<Figure size 432x288 with 1 Axes>"
      ]
     },
     "metadata": {
      "needs_background": "light"
     },
     "output_type": "display_data"
    }
   ],
   "source": [
    "lw=2\n",
    "# First aggregate all false positive rates\n",
    "all_fpr = np.unique(np.concatenate([fpr[i] for i in range(n_classes)]))\n",
    "\n",
    "# Then interpolate all ROC curves at this points\n",
    "mean_tpr = np.zeros_like(all_fpr)\n",
    "for i in range(n_classes):\n",
    "    mean_tpr += interp(all_fpr, fpr[i], tpr[i])\n",
    "\n",
    "# Finally average it and compute AUC\n",
    "mean_tpr /= n_classes\n",
    "\n",
    "fpr[\"macro\"] = all_fpr\n",
    "tpr[\"macro\"] = mean_tpr\n",
    "roc_auc[\"macro\"] = auc(fpr[\"macro\"], tpr[\"macro\"])\n",
    "\n",
    "# Plot all ROC curves\n",
    "plt.figure()\n",
    "plt.plot(fpr[\"micro\"], tpr[\"micro\"],\n",
    "         label='micro-average ROC curve (area = {0:0.2f})'\n",
    "               ''.format(roc_auc[\"micro\"]),\n",
    "         color='deeppink', linestyle=':', linewidth=4)\n",
    "\n",
    "plt.plot(fpr[\"macro\"], tpr[\"macro\"],\n",
    "         label='macro-average ROC curve (area = {0:0.2f})'\n",
    "               ''.format(roc_auc[\"macro\"]),\n",
    "         color='navy', linestyle=':', linewidth=4)\n",
    "\n",
    "colors = cycle(['aqua', 'darkorange', 'cornflowerblue'])\n",
    "for i, color in zip(range(n_classes), colors):\n",
    "    plt.plot(fpr[i], tpr[i], color=color, lw=lw,\n",
    "             label='ROC curve of class {0} (area = {1:0.2f})'\n",
    "             ''.format(i, roc_auc[i]))\n",
    "\n",
    "plt.plot([0, 1], [0, 1], 'k--', lw=lw)\n",
    "plt.xlim([0.0, 1.0])\n",
    "plt.ylim([0.0, 1.05])\n",
    "plt.xlabel('False Positive Rate')\n",
    "plt.ylabel('True Positive Rate')\n",
    "plt.title('Some extension of Receiver operating characteristic to multi-class')\n",
    "plt.legend(loc=\"lower right\")\n",
    "plt.show()"
   ]
  },
  {
   "cell_type": "code",
   "execution_count": null,
   "id": "939a26c9",
   "metadata": {},
   "outputs": [],
   "source": []
  }
 ],
 "metadata": {
  "kernelspec": {
   "display_name": "sleepnet",
   "language": "python",
   "name": "sleepnet"
  },
  "language_info": {
   "codemirror_mode": {
    "name": "ipython",
    "version": 3
   },
   "file_extension": ".py",
   "mimetype": "text/x-python",
   "name": "python",
   "nbconvert_exporter": "python",
   "pygments_lexer": "ipython3",
   "version": "3.7.10"
  }
 },
 "nbformat": 4,
 "nbformat_minor": 5
}
